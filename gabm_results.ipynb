{
 "cells": [
  {
   "cell_type": "markdown",
   "metadata": {},
   "source": [
    "# The Visualization Notebook for the `ga-benchmark`"
   ]
  },
  {
   "cell_type": "markdown",
   "metadata": {},
   "source": [
    "This notebook presents the performance of Geometric Algebra libraries, library generators, and code optimizers included in the `ga-benchmark`. Basically, It reads data from the `.json` files produced by the `ga-benchmark` and provides pleasant tables and charts for comparing the solutions.\n",
    "\n",
    "You need to run the entire notebook to see the results. We suggest reading the instructions contained in each text cell for a better understanding of the data."
   ]
  },
  {
   "cell_type": "markdown",
   "metadata": {},
   "source": [
    "## Inicialization"
   ]
  },
  {
   "cell_type": "markdown",
   "metadata": {},
   "source": [
    "Let's import some modules."
   ]
  },
  {
   "cell_type": "code",
   "execution_count": 1,
   "metadata": {
    "scrolled": true
   },
   "outputs": [],
   "source": [
    "import ipywidgets as widgets\n",
    "from os import path, getcwd\n",
    "from IPython.display import display"
   ]
  },
  {
   "cell_type": "markdown",
   "metadata": {},
   "source": [
    "The `gabm` module defines the functions to read and display results produced by the `ga-benchmark` tool."
   ]
  },
  {
   "cell_type": "code",
   "execution_count": 2,
   "metadata": {
    "scrolled": true
   },
   "outputs": [],
   "source": [
    "import sys\n",
    "sys.path.append(path.abspath(getcwd()))  # Assuming that the working directory includes the 'gabm.py' file.\n",
    "\n",
    "from gabm import *"
   ]
  },
  {
   "cell_type": "markdown",
   "metadata": {},
   "source": [
    "Now, let's read the content of the `.json` files produced by the `ga-benchmark`. Set the `input_path` variable to change the directory path including the `.json` files. The `data` variable stores all data available"
   ]
  },
  {
   "cell_type": "code",
   "execution_count": 3,
   "metadata": {},
   "outputs": [
    {
     "name": "stderr",
     "output_type": "stream",
     "text": [
      "Reading JSON files: 100%|█████████████████████████████████████████████████████████| 1161/1161 [00:01<00:00, 705.95it/s]\n"
     ]
    }
   ],
   "source": [
    "input_path = path.join(path.abspath(getcwd()), 'build')  # Assuming that the working directory is '<path-to>/ga-benchmark' and input data is in '<path-to>/ga-benchmark/build' folder.\n",
    "data = read_data(folder=input_path, verbose=False)"
   ]
  },
  {
   "cell_type": "markdown",
   "metadata": {},
   "source": [
    "The `SOLUTIONS` variable gives fancy names to the compared solutions. You have to include your solution here if you have added it to `ga-benchmark`."
   ]
  },
  {
   "cell_type": "code",
   "execution_count": 4,
   "metadata": {
    "scrolled": true
   },
   "outputs": [],
   "source": [
    "SOLUTIONS = {\n",
    "    'Gaalet': {'description': 'Gaalet'},\n",
    "    'Gaalop': {'description': 'Gaalop'},\n",
    "    'Garamon': {'description': 'Garamon'},\n",
    "    'GATL': {'description': 'GATL'},\n",
    "    'GluCatFramedMulti': {'description': 'GluCat (framed)'},\n",
    "    'GluCatMatrixMulti': {'description': 'GluCat (matrix)'},\n",
    "    'TbGAL': {'description': 'TbGAL'},\n",
    "    'Versor': {'description': 'Versor'}\n",
    "}"
   ]
  },
  {
   "cell_type": "markdown",
   "metadata": {},
   "source": [
    "# Configuration"
   ]
  },
  {
   "cell_type": "markdown",
   "metadata": {},
   "source": [
    "The `make_configuration_gui` function creates the user interface to select the solutions, models of geometry, and operations used while computing tables and charts. All options are selected by default.\n",
    "\n",
    "The `filter_data` function filters `data`-like dictionaries using the options selected in the user interface."
   ]
  },
  {
   "cell_type": "code",
   "execution_count": 5,
   "metadata": {
    "scrolled": false
   },
   "outputs": [
    {
     "data": {
      "application/vnd.jupyter.widget-view+json": {
       "model_id": "d981a37777354152bdd2c84328278ca3",
       "version_major": 2,
       "version_minor": 0
      },
      "text/plain": [
       "HTML(value='<p style=\"line-height: 1.5\"><b>Context:</b> Build using GNU Compiler Collection (version 7.4.0) in…"
      ]
     },
     "metadata": {},
     "output_type": "display_data"
    },
    {
     "data": {
      "application/vnd.jupyter.widget-view+json": {
       "model_id": "2d9866d1878642de8ee882a3edd7e5f4",
       "version_major": 2,
       "version_minor": 0
      },
      "text/plain": [
       "Tab(children=(VBox(children=(Checkbox(value=True, description='GATL', indent=False), Checkbox(value=True, desc…"
      ]
     },
     "metadata": {},
     "output_type": "display_data"
    }
   ],
   "source": [
    "def make_configuration_gui(given_data: dict) -> dict:\n",
    "    given_solutions, given_models, given_operations = available_data(given_data)\n",
    "    checkboxes = dict()\n",
    "    for context_key, (context, _) in given_data.items():\n",
    "        context_tab_titles = list()\n",
    "        context_tab_children = list()\n",
    "        # Tab 1: Solutions\n",
    "        solutions_checkboxes = dict()\n",
    "        for solution_key in given_solutions[context_key]:\n",
    "            solutions_checkboxes[solution_key] = widgets.Checkbox(description=SOLUTIONS[solution_key]['description'], value=True, indent=False)\n",
    "        context_tab_titles.append('1. Solutions')\n",
    "        context_tab_children.append(widgets.VBox(children=[solution_checkbox for _, solution_checkbox in sorted(solutions_checkboxes.items())]))\n",
    "        # Tab 2: Models of Geometry\n",
    "        models_checkboxes = dict()\n",
    "        models_items = list()\n",
    "        for ind, (model_key, dimensions) in enumerate(given_models[context_key].items()):\n",
    "            model_checkboxes = list()\n",
    "            for d in sorted(dimensions):\n",
    "                d_checkbox = widgets.Checkbox(description='%d-D' % d, value=True, indent=False)\n",
    "                models_checkboxes.setdefault(model_key, dict())[d] = d_checkbox\n",
    "                model_checkboxes.append(d_checkbox)\n",
    "            models_items.append(widgets.Label(value=MODELS[model_key]['description']))\n",
    "            models_items.append(widgets.VBox(children=model_checkboxes))\n",
    "        context_tab_titles.append('2. Models')\n",
    "        context_tab_children.append(widgets.GridBox(models_items, layout=widgets.Layout(grid_template_columns='100px auto')))\n",
    "        # Tabs 3.*: Groups of Operations\n",
    "        operations_checkboxes = dict()\n",
    "        for group_ind, (group_key, subgroups) in enumerate(sorted(given_operations[context_key].items())):\n",
    "            group_items = list()\n",
    "            for subgroup_ind, (subgroup_key, operations) in enumerate(sorted(subgroups.items())):\n",
    "                subgroup_checkboxes = list()\n",
    "                for operation_key in sorted(operations):\n",
    "                    operation_checkbox = widgets.Checkbox(description=OPERATIONS[group_key]['subgroups'][subgroup_key]['operations'][operation_key]['description'], value=True, indent=False)\n",
    "                    operations_checkboxes.setdefault(group_key, dict()).setdefault(subgroup_key, dict())[operation_key] = operation_checkbox\n",
    "                    subgroup_checkboxes.append(operation_checkbox)\n",
    "                group_items.append(widgets.Label(value=OPERATIONS[group_key]['subgroups'][subgroup_key]['description']))\n",
    "                group_items.append(widgets.VBox(children=subgroup_checkboxes))\n",
    "            context_tab_titles.append('3.%d. %s' % (group_ind + 1, OPERATIONS[group_key]['description']))\n",
    "            context_tab_children.append(widgets.GridBox(group_items, layout=widgets.Layout(grid_template_columns='150px auto')))\n",
    "        # The context tab\n",
    "        context_tab = widgets.Tab()\n",
    "        context_tab.children = context_tab_children\n",
    "        for ind, title in enumerate(context_tab_titles):\n",
    "            context_tab.set_title(ind, title)\n",
    "        display(widgets.HTML(value='<p style=\"line-height: 1.5\"><b>Context:</b> %s</p>' % context_to_str(context)))\n",
    "        display(context_tab)\n",
    "        checkboxes[context_key] = {'solutions': solutions_checkboxes, 'models': models_checkboxes, 'operations': operations_checkboxes}\n",
    "    return checkboxes\n",
    "\n",
    "configuration_checkboxes = make_configuration_gui(data)\n",
    "\n",
    "def filter_data(given_data: dict) -> dict:\n",
    "    filtered_data = dict()\n",
    "    for context_key, (context, models) in data.items():\n",
    "        for model_key, dimensions in models.items():\n",
    "            for d, groups in dimensions.items():\n",
    "                if configuration_checkboxes[context_key]['models'][model_key][d].value:\n",
    "                    for group_key, subgroups in groups.items():\n",
    "                        for subgroup_key, operations in subgroups.items():\n",
    "                            for operation_key, solutions in operations.items():\n",
    "                                if configuration_checkboxes[context_key]['operations'][group_key][subgroup_key][operation_key].value:\n",
    "                                    for solution_key, cases in solutions.items():\n",
    "                                        if configuration_checkboxes[context_key]['solutions'][solution_key].value:\n",
    "                                            filtered_data.setdefault(context_key, (context, dict()))[1].setdefault(model_key, dict()).setdefault(d, dict()).setdefault(group_key, dict()).setdefault(subgroup_key, dict()).setdefault(operation_key, dict())[solution_key] = cases\n",
    "    return filtered_data"
   ]
  },
  {
   "cell_type": "markdown",
   "metadata": {},
   "source": [
    "## Results"
   ]
  },
  {
   "cell_type": "markdown",
   "metadata": {},
   "source": [
    "This section presents three types of results: the [table of features](#table_of_features), the [ranking](#ranking), and [performance charts](#performance_charts)."
   ]
  },
  {
   "cell_type": "markdown",
   "metadata": {
    "tags": [
     "table_of_features"
    ]
   },
   "source": [
    "### Table of Features"
   ]
  },
  {
   "cell_type": "markdown",
   "metadata": {},
   "source": [
    "The following table summarizes the models of geometry and the operations supported by the compared solution."
   ]
  },
  {
   "cell_type": "code",
   "execution_count": 6,
   "metadata": {
    "scrolled": false
   },
   "outputs": [
    {
     "data": {
      "application/vnd.jupyter.widget-view+json": {
       "model_id": "859dfdebeaa74583a06260b30faa901f",
       "version_major": 2,
       "version_minor": 0
      },
      "text/plain": [
       "HTML(value='<!DOCTYPE html><html><head><style>.verticalTableHeader {text-align: center; line-height: 1.0; whit…"
      ]
     },
     "metadata": {},
     "output_type": "display_data"
    }
   ],
   "source": [
    "display(widgets.HTML(value=make_table_of_features(data=filter_data(data), solutions=SOLUTIONS), placeholder='Table of Features'))"
   ]
  },
  {
   "cell_type": "markdown",
   "metadata": {
    "tags": [
     "ranking"
    ]
   },
   "source": [
    "### Ranking"
   ]
  },
  {
   "cell_type": "markdown",
   "metadata": {},
   "source": [
    "The following tables classify the compared solutions using the \"gold first method\", *i.e.,* based first on the number of gold medals, then silver, and so on. The medals are distributed among the solutions for testing cases implemented by all of them."
   ]
  },
  {
   "cell_type": "code",
   "execution_count": 7,
   "metadata": {},
   "outputs": [
    {
     "data": {
      "application/vnd.jupyter.widget-view+json": {
       "model_id": "ed41b905f4954f7bb7ffe84526ffc713",
       "version_major": 2,
       "version_minor": 0
      },
      "text/plain": [
       "HTML(value='<!DOCTYPE html><html><head><style>table, th, td {border: 1px solid black; border-collapse: collaps…"
      ]
     },
     "metadata": {},
     "output_type": "display_data"
    }
   ],
   "source": [
    "tables = make_ranking(data=filter_data(data), solutions=SOLUTIONS)\n",
    "for table in tables:\n",
    "    display(widgets.HTML(value=table, placeholder='Ranking'))"
   ]
  },
  {
   "cell_type": "markdown",
   "metadata": {
    "tags": [
     "performance_charts"
    ]
   },
   "source": [
    "### Performance Charts"
   ]
  },
  {
   "cell_type": "markdown",
   "metadata": {},
   "source": [
    "The following charts summarize the performance of the compared solution. Set the `result_path` variable to change the directory where the chart files will be written."
   ]
  },
  {
   "cell_type": "code",
   "execution_count": null,
   "metadata": {
    "scrolled": false
   },
   "outputs": [],
   "source": [
    "result_path = path.join(path.abspath(getcwd()), 'results')  # Assuming that the working directory is '<path-to>/ga-benchmark'.\n",
    "tables = make_performance_charts(data=filter_data(data), solutions=SOLUTIONS, folder=result_path)\n",
    "for table in tables:\n",
    "    display(widgets.HTML(value=table, placeholder='Performance Chart'))"
   ]
  },
  {
   "cell_type": "code",
   "execution_count": null,
   "metadata": {},
   "outputs": [],
   "source": []
  }
 ],
 "metadata": {
  "kernelspec": {
   "display_name": "Python 3",
   "language": "python",
   "name": "python3"
  },
  "language_info": {
   "codemirror_mode": {
    "name": "ipython",
    "version": 3
   },
   "file_extension": ".py",
   "mimetype": "text/x-python",
   "name": "python",
   "nbconvert_exporter": "python",
   "pygments_lexer": "ipython3",
   "version": "3.7.1"
  }
 },
 "nbformat": 4,
 "nbformat_minor": 2
}
